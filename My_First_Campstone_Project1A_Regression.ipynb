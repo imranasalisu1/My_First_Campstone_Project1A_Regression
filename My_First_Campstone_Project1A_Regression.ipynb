{
 "cells": [
  {
   "cell_type": "code",
   "execution_count": 1,
   "id": "4e9df66a-ac20-4580-905f-17c1241229e1",
   "metadata": {},
   "outputs": [],
   "source": [
    "# LOADING THE LIBRARIES\n",
    "import pandas as pd\n",
    "import numpy as np\n",
    "import matplotlib.pyplot as plt\n",
    "from scipy import stats"
   ]
  },
  {
   "cell_type": "code",
   "execution_count": 2,
   "id": "87256090-5a86-4bd9-84de-42c6ffecde1f",
   "metadata": {},
   "outputs": [
    {
     "data": {
      "text/html": [
       "<div>\n",
       "<style scoped>\n",
       "    .dataframe tbody tr th:only-of-type {\n",
       "        vertical-align: middle;\n",
       "    }\n",
       "\n",
       "    .dataframe tbody tr th {\n",
       "        vertical-align: top;\n",
       "    }\n",
       "\n",
       "    .dataframe thead th {\n",
       "        text-align: right;\n",
       "    }\n",
       "</style>\n",
       "<table border=\"1\" class=\"dataframe\">\n",
       "  <thead>\n",
       "    <tr style=\"text-align: right;\">\n",
       "      <th></th>\n",
       "      <th>rowid</th>\n",
       "      <th>species</th>\n",
       "      <th>island</th>\n",
       "      <th>bill_length_mm</th>\n",
       "      <th>bill_depth_mm</th>\n",
       "      <th>flipper_length_mm</th>\n",
       "      <th>body_mass_g</th>\n",
       "      <th>sex</th>\n",
       "      <th>year</th>\n",
       "    </tr>\n",
       "  </thead>\n",
       "  <tbody>\n",
       "    <tr>\n",
       "      <th>0</th>\n",
       "      <td>1</td>\n",
       "      <td>Adelie</td>\n",
       "      <td>Torgersen</td>\n",
       "      <td>39.1</td>\n",
       "      <td>18.7</td>\n",
       "      <td>181.0</td>\n",
       "      <td>3750.0</td>\n",
       "      <td>male</td>\n",
       "      <td>2007</td>\n",
       "    </tr>\n",
       "    <tr>\n",
       "      <th>1</th>\n",
       "      <td>2</td>\n",
       "      <td>Adelie</td>\n",
       "      <td>Torgersen</td>\n",
       "      <td>39.5</td>\n",
       "      <td>17.4</td>\n",
       "      <td>186.0</td>\n",
       "      <td>3800.0</td>\n",
       "      <td>female</td>\n",
       "      <td>2007</td>\n",
       "    </tr>\n",
       "    <tr>\n",
       "      <th>2</th>\n",
       "      <td>3</td>\n",
       "      <td>Adelie</td>\n",
       "      <td>Torgersen</td>\n",
       "      <td>40.3</td>\n",
       "      <td>18.0</td>\n",
       "      <td>195.0</td>\n",
       "      <td>3250.0</td>\n",
       "      <td>female</td>\n",
       "      <td>2007</td>\n",
       "    </tr>\n",
       "    <tr>\n",
       "      <th>3</th>\n",
       "      <td>4</td>\n",
       "      <td>Adelie</td>\n",
       "      <td>Torgersen</td>\n",
       "      <td>NaN</td>\n",
       "      <td>NaN</td>\n",
       "      <td>NaN</td>\n",
       "      <td>NaN</td>\n",
       "      <td>NaN</td>\n",
       "      <td>2007</td>\n",
       "    </tr>\n",
       "    <tr>\n",
       "      <th>4</th>\n",
       "      <td>5</td>\n",
       "      <td>Adelie</td>\n",
       "      <td>Torgersen</td>\n",
       "      <td>36.7</td>\n",
       "      <td>19.3</td>\n",
       "      <td>193.0</td>\n",
       "      <td>3450.0</td>\n",
       "      <td>female</td>\n",
       "      <td>2007</td>\n",
       "    </tr>\n",
       "    <tr>\n",
       "      <th>...</th>\n",
       "      <td>...</td>\n",
       "      <td>...</td>\n",
       "      <td>...</td>\n",
       "      <td>...</td>\n",
       "      <td>...</td>\n",
       "      <td>...</td>\n",
       "      <td>...</td>\n",
       "      <td>...</td>\n",
       "      <td>...</td>\n",
       "    </tr>\n",
       "    <tr>\n",
       "      <th>339</th>\n",
       "      <td>340</td>\n",
       "      <td>Chinstrap</td>\n",
       "      <td>Dream</td>\n",
       "      <td>55.8</td>\n",
       "      <td>19.8</td>\n",
       "      <td>207.0</td>\n",
       "      <td>4000.0</td>\n",
       "      <td>male</td>\n",
       "      <td>2009</td>\n",
       "    </tr>\n",
       "    <tr>\n",
       "      <th>340</th>\n",
       "      <td>341</td>\n",
       "      <td>Chinstrap</td>\n",
       "      <td>Dream</td>\n",
       "      <td>43.5</td>\n",
       "      <td>18.1</td>\n",
       "      <td>202.0</td>\n",
       "      <td>3400.0</td>\n",
       "      <td>female</td>\n",
       "      <td>2009</td>\n",
       "    </tr>\n",
       "    <tr>\n",
       "      <th>341</th>\n",
       "      <td>342</td>\n",
       "      <td>Chinstrap</td>\n",
       "      <td>Dream</td>\n",
       "      <td>49.6</td>\n",
       "      <td>18.2</td>\n",
       "      <td>193.0</td>\n",
       "      <td>3775.0</td>\n",
       "      <td>male</td>\n",
       "      <td>2009</td>\n",
       "    </tr>\n",
       "    <tr>\n",
       "      <th>342</th>\n",
       "      <td>343</td>\n",
       "      <td>Chinstrap</td>\n",
       "      <td>Dream</td>\n",
       "      <td>50.8</td>\n",
       "      <td>19.0</td>\n",
       "      <td>210.0</td>\n",
       "      <td>4100.0</td>\n",
       "      <td>male</td>\n",
       "      <td>2009</td>\n",
       "    </tr>\n",
       "    <tr>\n",
       "      <th>343</th>\n",
       "      <td>344</td>\n",
       "      <td>Chinstrap</td>\n",
       "      <td>Dream</td>\n",
       "      <td>50.2</td>\n",
       "      <td>18.7</td>\n",
       "      <td>198.0</td>\n",
       "      <td>3775.0</td>\n",
       "      <td>female</td>\n",
       "      <td>2009</td>\n",
       "    </tr>\n",
       "  </tbody>\n",
       "</table>\n",
       "<p>344 rows × 9 columns</p>\n",
       "</div>"
      ],
      "text/plain": [
       "     rowid    species     island  bill_length_mm  bill_depth_mm  \\\n",
       "0        1     Adelie  Torgersen            39.1           18.7   \n",
       "1        2     Adelie  Torgersen            39.5           17.4   \n",
       "2        3     Adelie  Torgersen            40.3           18.0   \n",
       "3        4     Adelie  Torgersen             NaN            NaN   \n",
       "4        5     Adelie  Torgersen            36.7           19.3   \n",
       "..     ...        ...        ...             ...            ...   \n",
       "339    340  Chinstrap      Dream            55.8           19.8   \n",
       "340    341  Chinstrap      Dream            43.5           18.1   \n",
       "341    342  Chinstrap      Dream            49.6           18.2   \n",
       "342    343  Chinstrap      Dream            50.8           19.0   \n",
       "343    344  Chinstrap      Dream            50.2           18.7   \n",
       "\n",
       "     flipper_length_mm  body_mass_g     sex  year  \n",
       "0                181.0       3750.0    male  2007  \n",
       "1                186.0       3800.0  female  2007  \n",
       "2                195.0       3250.0  female  2007  \n",
       "3                  NaN          NaN     NaN  2007  \n",
       "4                193.0       3450.0  female  2007  \n",
       "..                 ...          ...     ...   ...  \n",
       "339              207.0       4000.0    male  2009  \n",
       "340              202.0       3400.0  female  2009  \n",
       "341              193.0       3775.0    male  2009  \n",
       "342              210.0       4100.0    male  2009  \n",
       "343              198.0       3775.0  female  2009  \n",
       "\n",
       "[344 rows x 9 columns]"
      ]
     },
     "execution_count": 2,
     "metadata": {},
     "output_type": "execute_result"
    }
   ],
   "source": [
    "# LOADING THE DATA (PENGUINS)\n",
    "data = pd.read_csv('penguins.csv')\n",
    "data"
   ]
  },
  {
   "cell_type": "code",
   "execution_count": 3,
   "id": "297e18ac-cb29-4edf-a99f-25dfc4ecda56",
   "metadata": {},
   "outputs": [
    {
     "data": {
      "text/plain": [
       "<bound method NDFrame.describe of      rowid    species     island  bill_length_mm  bill_depth_mm  \\\n",
       "0        1     Adelie  Torgersen            39.1           18.7   \n",
       "1        2     Adelie  Torgersen            39.5           17.4   \n",
       "2        3     Adelie  Torgersen            40.3           18.0   \n",
       "3        4     Adelie  Torgersen             NaN            NaN   \n",
       "4        5     Adelie  Torgersen            36.7           19.3   \n",
       "..     ...        ...        ...             ...            ...   \n",
       "339    340  Chinstrap      Dream            55.8           19.8   \n",
       "340    341  Chinstrap      Dream            43.5           18.1   \n",
       "341    342  Chinstrap      Dream            49.6           18.2   \n",
       "342    343  Chinstrap      Dream            50.8           19.0   \n",
       "343    344  Chinstrap      Dream            50.2           18.7   \n",
       "\n",
       "     flipper_length_mm  body_mass_g     sex  year  \n",
       "0                181.0       3750.0    male  2007  \n",
       "1                186.0       3800.0  female  2007  \n",
       "2                195.0       3250.0  female  2007  \n",
       "3                  NaN          NaN     NaN  2007  \n",
       "4                193.0       3450.0  female  2007  \n",
       "..                 ...          ...     ...   ...  \n",
       "339              207.0       4000.0    male  2009  \n",
       "340              202.0       3400.0  female  2009  \n",
       "341              193.0       3775.0    male  2009  \n",
       "342              210.0       4100.0    male  2009  \n",
       "343              198.0       3775.0  female  2009  \n",
       "\n",
       "[344 rows x 9 columns]>"
      ]
     },
     "execution_count": 3,
     "metadata": {},
     "output_type": "execute_result"
    }
   ],
   "source": [
    "# EXPLORATORY DATA ANALYSIS\n",
    "data.describe"
   ]
  },
  {
   "cell_type": "code",
   "execution_count": 4,
   "id": "5219a64a-5227-4b50-981b-546020a5e991",
   "metadata": {},
   "outputs": [
    {
     "data": {
      "text/html": [
       "<div>\n",
       "<style scoped>\n",
       "    .dataframe tbody tr th:only-of-type {\n",
       "        vertical-align: middle;\n",
       "    }\n",
       "\n",
       "    .dataframe tbody tr th {\n",
       "        vertical-align: top;\n",
       "    }\n",
       "\n",
       "    .dataframe thead th {\n",
       "        text-align: right;\n",
       "    }\n",
       "</style>\n",
       "<table border=\"1\" class=\"dataframe\">\n",
       "  <thead>\n",
       "    <tr style=\"text-align: right;\">\n",
       "      <th></th>\n",
       "      <th>rowid</th>\n",
       "      <th>species</th>\n",
       "      <th>island</th>\n",
       "      <th>bill_length_mm</th>\n",
       "      <th>bill_depth_mm</th>\n",
       "      <th>flipper_length_mm</th>\n",
       "      <th>body_mass_g</th>\n",
       "      <th>sex</th>\n",
       "      <th>year</th>\n",
       "    </tr>\n",
       "  </thead>\n",
       "  <tbody>\n",
       "    <tr>\n",
       "      <th>0</th>\n",
       "      <td>False</td>\n",
       "      <td>False</td>\n",
       "      <td>False</td>\n",
       "      <td>False</td>\n",
       "      <td>False</td>\n",
       "      <td>False</td>\n",
       "      <td>False</td>\n",
       "      <td>False</td>\n",
       "      <td>False</td>\n",
       "    </tr>\n",
       "    <tr>\n",
       "      <th>1</th>\n",
       "      <td>False</td>\n",
       "      <td>False</td>\n",
       "      <td>False</td>\n",
       "      <td>False</td>\n",
       "      <td>False</td>\n",
       "      <td>False</td>\n",
       "      <td>False</td>\n",
       "      <td>False</td>\n",
       "      <td>False</td>\n",
       "    </tr>\n",
       "    <tr>\n",
       "      <th>2</th>\n",
       "      <td>False</td>\n",
       "      <td>False</td>\n",
       "      <td>False</td>\n",
       "      <td>False</td>\n",
       "      <td>False</td>\n",
       "      <td>False</td>\n",
       "      <td>False</td>\n",
       "      <td>False</td>\n",
       "      <td>False</td>\n",
       "    </tr>\n",
       "    <tr>\n",
       "      <th>3</th>\n",
       "      <td>False</td>\n",
       "      <td>False</td>\n",
       "      <td>False</td>\n",
       "      <td>True</td>\n",
       "      <td>True</td>\n",
       "      <td>True</td>\n",
       "      <td>True</td>\n",
       "      <td>True</td>\n",
       "      <td>False</td>\n",
       "    </tr>\n",
       "    <tr>\n",
       "      <th>4</th>\n",
       "      <td>False</td>\n",
       "      <td>False</td>\n",
       "      <td>False</td>\n",
       "      <td>False</td>\n",
       "      <td>False</td>\n",
       "      <td>False</td>\n",
       "      <td>False</td>\n",
       "      <td>False</td>\n",
       "      <td>False</td>\n",
       "    </tr>\n",
       "    <tr>\n",
       "      <th>...</th>\n",
       "      <td>...</td>\n",
       "      <td>...</td>\n",
       "      <td>...</td>\n",
       "      <td>...</td>\n",
       "      <td>...</td>\n",
       "      <td>...</td>\n",
       "      <td>...</td>\n",
       "      <td>...</td>\n",
       "      <td>...</td>\n",
       "    </tr>\n",
       "    <tr>\n",
       "      <th>339</th>\n",
       "      <td>False</td>\n",
       "      <td>False</td>\n",
       "      <td>False</td>\n",
       "      <td>False</td>\n",
       "      <td>False</td>\n",
       "      <td>False</td>\n",
       "      <td>False</td>\n",
       "      <td>False</td>\n",
       "      <td>False</td>\n",
       "    </tr>\n",
       "    <tr>\n",
       "      <th>340</th>\n",
       "      <td>False</td>\n",
       "      <td>False</td>\n",
       "      <td>False</td>\n",
       "      <td>False</td>\n",
       "      <td>False</td>\n",
       "      <td>False</td>\n",
       "      <td>False</td>\n",
       "      <td>False</td>\n",
       "      <td>False</td>\n",
       "    </tr>\n",
       "    <tr>\n",
       "      <th>341</th>\n",
       "      <td>False</td>\n",
       "      <td>False</td>\n",
       "      <td>False</td>\n",
       "      <td>False</td>\n",
       "      <td>False</td>\n",
       "      <td>False</td>\n",
       "      <td>False</td>\n",
       "      <td>False</td>\n",
       "      <td>False</td>\n",
       "    </tr>\n",
       "    <tr>\n",
       "      <th>342</th>\n",
       "      <td>False</td>\n",
       "      <td>False</td>\n",
       "      <td>False</td>\n",
       "      <td>False</td>\n",
       "      <td>False</td>\n",
       "      <td>False</td>\n",
       "      <td>False</td>\n",
       "      <td>False</td>\n",
       "      <td>False</td>\n",
       "    </tr>\n",
       "    <tr>\n",
       "      <th>343</th>\n",
       "      <td>False</td>\n",
       "      <td>False</td>\n",
       "      <td>False</td>\n",
       "      <td>False</td>\n",
       "      <td>False</td>\n",
       "      <td>False</td>\n",
       "      <td>False</td>\n",
       "      <td>False</td>\n",
       "      <td>False</td>\n",
       "    </tr>\n",
       "  </tbody>\n",
       "</table>\n",
       "<p>344 rows × 9 columns</p>\n",
       "</div>"
      ],
      "text/plain": [
       "     rowid  species  island  bill_length_mm  bill_depth_mm  flipper_length_mm  \\\n",
       "0    False    False   False           False          False              False   \n",
       "1    False    False   False           False          False              False   \n",
       "2    False    False   False           False          False              False   \n",
       "3    False    False   False            True           True               True   \n",
       "4    False    False   False           False          False              False   \n",
       "..     ...      ...     ...             ...            ...                ...   \n",
       "339  False    False   False           False          False              False   \n",
       "340  False    False   False           False          False              False   \n",
       "341  False    False   False           False          False              False   \n",
       "342  False    False   False           False          False              False   \n",
       "343  False    False   False           False          False              False   \n",
       "\n",
       "     body_mass_g    sex   year  \n",
       "0          False  False  False  \n",
       "1          False  False  False  \n",
       "2          False  False  False  \n",
       "3           True   True  False  \n",
       "4          False  False  False  \n",
       "..           ...    ...    ...  \n",
       "339        False  False  False  \n",
       "340        False  False  False  \n",
       "341        False  False  False  \n",
       "342        False  False  False  \n",
       "343        False  False  False  \n",
       "\n",
       "[344 rows x 9 columns]"
      ]
     },
     "execution_count": 4,
     "metadata": {},
     "output_type": "execute_result"
    }
   ],
   "source": [
    "data.isnull()"
   ]
  },
  {
   "cell_type": "code",
   "execution_count": 9,
   "id": "30a86f32-26ab-4087-8df3-24cf3a1eaf45",
   "metadata": {},
   "outputs": [
    {
     "data": {
      "text/plain": [
       "0      39.1\n",
       "1      39.5\n",
       "2      40.3\n",
       "4      36.7\n",
       "5      39.3\n",
       "       ... \n",
       "339    55.8\n",
       "340    43.5\n",
       "341    49.6\n",
       "342    50.8\n",
       "343    50.2\n",
       "Name: bill_length_mm, Length: 342, dtype: float64"
      ]
     },
     "execution_count": 9,
     "metadata": {},
     "output_type": "execute_result"
    }
   ],
   "source": [
    "# REPLACE AND DROP MISSING VALUES WITH COLUMN MEAN\n",
    "df_bill_length_mm = data['bill_length_mm']\n",
    "df_bill_length_mm\n",
    "df_bill_length_mm.dropna()\n"
   ]
  },
  {
   "cell_type": "code",
   "execution_count": 10,
   "id": "472fd7de-b381-42be-9717-b01527b4da9f",
   "metadata": {},
   "outputs": [
    {
     "data": {
      "text/plain": [
       "0      39.10000\n",
       "1      39.50000\n",
       "2      40.30000\n",
       "3      43.92193\n",
       "4      36.70000\n",
       "         ...   \n",
       "339    55.80000\n",
       "340    43.50000\n",
       "341    49.60000\n",
       "342    50.80000\n",
       "343    50.20000\n",
       "Name: bill_length_mm, Length: 344, dtype: float64"
      ]
     },
     "execution_count": 10,
     "metadata": {},
     "output_type": "execute_result"
    }
   ],
   "source": [
    "df_bill_length_mm.fillna(df_bill_length_mm.mean())"
   ]
  },
  {
   "cell_type": "code",
   "execution_count": 11,
   "id": "39210d0a-609b-42b2-b849-e1317865421a",
   "metadata": {},
   "outputs": [
    {
     "data": {
      "text/plain": [
       "0      18.70000\n",
       "1      17.40000\n",
       "2      18.00000\n",
       "3      17.15117\n",
       "4      19.30000\n",
       "         ...   \n",
       "339    19.80000\n",
       "340    18.10000\n",
       "341    18.20000\n",
       "342    19.00000\n",
       "343    18.70000\n",
       "Name: bill_depth_mm, Length: 344, dtype: float64"
      ]
     },
     "execution_count": 11,
     "metadata": {},
     "output_type": "execute_result"
    }
   ],
   "source": [
    "# CREATING DF COLUMN2; DROP AND REPLACE WITH MEAN\n",
    "df_bill_depth_mm = data['bill_depth_mm']\n",
    "df_bill_depth_mm\n",
    "df_bill_depth_mm.dropna()\n",
    "df_bill_depth_mm.fillna(df_bill_depth_mm.mean())"
   ]
  },
  {
   "cell_type": "code",
   "execution_count": 13,
   "id": "3c5aabad-aadc-4618-b7d8-1498c6d7f725",
   "metadata": {},
   "outputs": [
    {
     "data": {
      "text/plain": [
       "0      181.000000\n",
       "1      186.000000\n",
       "2      195.000000\n",
       "3      200.915205\n",
       "4      193.000000\n",
       "          ...    \n",
       "339    207.000000\n",
       "340    202.000000\n",
       "341    193.000000\n",
       "342    210.000000\n",
       "343    198.000000\n",
       "Name: flipper_length_mm, Length: 344, dtype: float64"
      ]
     },
     "execution_count": 13,
     "metadata": {},
     "output_type": "execute_result"
    }
   ],
   "source": [
    "#DATAFRAME3\n",
    "df_flipper_length_mm = data['flipper_length_mm']\n",
    "df_flipper_length_mm\n",
    "df_flipper_length_mm.dropna()\n",
    "df_flipper_length_mm.fillna(df_flipper_length_mm.mean())"
   ]
  },
  {
   "cell_type": "code",
   "execution_count": 43,
   "id": "d368e5ed-f693-43b7-8d83-dbad3db5b0e3",
   "metadata": {},
   "outputs": [
    {
     "data": {
      "text/plain": [
       "0      3750.000000\n",
       "1      3800.000000\n",
       "2      3250.000000\n",
       "3      4201.754386\n",
       "4      3450.000000\n",
       "          ...     \n",
       "339    4000.000000\n",
       "340    3400.000000\n",
       "341    3775.000000\n",
       "342    4100.000000\n",
       "343    3775.000000\n",
       "Name: body_mass_g, Length: 344, dtype: float64"
      ]
     },
     "execution_count": 43,
     "metadata": {},
     "output_type": "execute_result"
    }
   ],
   "source": [
    "#DATAFRAME4\n",
    "df_body_mass_g = data['body_mass_g']\n",
    "df_body_mass_g.dropna()\n",
    "mean_body_mass_g = data['body_mass_g'].mean\n",
    "mean_body_mass_g\n",
    "df_body_mass_g.fillna(df_body_mass_g.mean())"
   ]
  },
  {
   "cell_type": "code",
   "execution_count": 17,
   "id": "49c11b32-04c0-4ebb-9477-2d61bde63b7d",
   "metadata": {},
   "outputs": [
    {
     "data": {
      "text/plain": [
       "0      2007\n",
       "1      2007\n",
       "2      2007\n",
       "3      2007\n",
       "4      2007\n",
       "       ... \n",
       "339    2009\n",
       "340    2009\n",
       "341    2009\n",
       "342    2009\n",
       "343    2009\n",
       "Name: year, Length: 344, dtype: int64"
      ]
     },
     "execution_count": 17,
     "metadata": {},
     "output_type": "execute_result"
    }
   ],
   "source": [
    "# DATAFRAME5\n",
    "df_year = data['year']\n",
    "df_year.dropna()\n",
    "df_year.fillna(df_year.mean())"
   ]
  },
  {
   "cell_type": "code",
   "execution_count": 24,
   "id": "628ec5a2-ae3d-4a2c-94e0-209e589aefdc",
   "metadata": {},
   "outputs": [
    {
     "data": {
      "text/plain": [
       "island     species  \n",
       "Biscoe     Adelie        44\n",
       "           Gentoo       124\n",
       "Dream      Adelie        56\n",
       "           Chinstrap     68\n",
       "Torgersen  Adelie        52\n",
       "dtype: int64"
      ]
     },
     "execution_count": 24,
     "metadata": {},
     "output_type": "execute_result"
    }
   ],
   "source": [
    "# TO COUNT THE NUMBER OF SPECIES BY ISLAND\n",
    "species_by_island = data.groupby(['island','species']).size()\n",
    "species_by_island"
   ]
  },
  {
   "cell_type": "code",
   "execution_count": 32,
   "id": "a6afe948-fdf0-4a93-b2b2-ce3c0aac2fdd",
   "metadata": {},
   "outputs": [
    {
     "data": {
      "image/png": "[encoded data removed]",
      "text/plain": [
       "<Figure size 640x480 with 1 Axes>"
      ]
     },
     "metadata": {},
     "output_type": "display_data"
    }
   ],
   "source": [
    "# BODY MASS DISTRIBUTION\n",
    "# USING HISTOGRAM\n",
    "plt.hist(data['body_mass_g'],bins=20)\n",
    "plt.xlabel('Body_mass_g')\n",
    "plt.ylabel('Frequency')\n",
    "plt.title('Body_mass Distribution')\n",
    "plt.show()"
   ]
  },
  {
   "cell_type": "code",
   "execution_count": 36,
   "id": "3d14bdf1-b4c6-491f-a7a8-9514dd4cffa1",
   "metadata": {},
   "outputs": [
    {
     "data": {
      "image/png": "[encoded data removed]",
      "text/plain": [
       "<Figure size 640x480 with 1 Axes>"
      ]
     },
     "metadata": {},
     "output_type": "display_data"
    }
   ],
   "source": [
    "# SEX RATIO BY SPECIES\n",
    "sex_ratio = data.groupby('species')['sex'].value_counts(normalize=True)\n",
    "sex_ratio\n",
    "# BARCHART\n",
    "sex_ratio.unstack().plot(kind='bar')\n",
    "plt.xlabel('species')\n",
    "plt.ylabel('sex_ratio')\n",
    "plt.title('sex_ratio by species')\n",
    "plt.show()"
   ]
  },
  {
   "cell_type": "code",
   "execution_count": 68,
   "id": "0db99417-a504-493a-9ad3-8999783afb54",
   "metadata": {},
   "outputs": [
    {
     "data": {
      "image/png": "[encoded data removed]",
      "text/plain": [
       "<Figure size 640x480 with 1 Axes>"
      ]
     },
     "metadata": {},
     "output_type": "display_data"
    }
   ],
   "source": [
    "# YEARLY TRENDS\n",
    "#1 LINE PLOT OF MEAN BODY MASS BY YEAR\n",
    "data.groupby('year')\n",
    "mean_body_mass_g = data['body_mass_g'].mean()\n",
    "mean_body_mass_g\n",
    "plt.xlabel('year')\n",
    "plt.ylabel('mean_body_mass_g')\n",
    "plt.title('yearly trends in body mass')\n",
    "plt.show()\n"
   ]
  },
  {
   "cell_type": "code",
   "execution_count": 71,
   "id": "7252dd68-993e-49a4-992d-cda5d594e3ba",
   "metadata": {},
   "outputs": [
    {
     "data": {
      "image/png": "[encoded data removed]",
      "text/plain": [
       "<Figure size 640x480 with 1 Axes>"
      ]
     },
     "metadata": {},
     "output_type": "display_data"
    }
   ],
   "source": [
    "# LINE PLOT OF MEAN_BODY_MASS BY YEAR\n",
    "data['year'].value_counts().sort_index().plot()\n",
    "plt.xlabel('year')\n",
    "plt.ylabel('penguin count')\n",
    "plt.title('Yearly Trends in Penguin Count')\n",
    "plt.show()"
   ]
  },
  {
   "cell_type": "code",
   "execution_count": 74,
   "id": "9bf00ac7-9829-464a-8926-6c2191ec88ca",
   "metadata": {},
   "outputs": [
    {
     "data": {
      "text/plain": [
       "<function matplotlib.pyplot.show(close=None, block=None)>"
      ]
     },
     "execution_count": 74,
     "metadata": {},
     "output_type": "execute_result"
    },
    {
     "data": {
      "image/png": "[encoded data removed]",
      "text/plain": [
       "<Figure size 640x480 with 1 Axes>"
      ]
     },
     "metadata": {},
     "output_type": "display_data"
    }
   ],
   "source": [
    "# REGRESSION ANALYSIS\n",
    "# SCATTER PLOT\n",
    "plt.scatter(data['bill_length_mm'],data['bill_depth_mm'])\n",
    "plt.xlabel('bill_length_mm')\n",
    "plt.ylabel('bill_depth_mm')\n",
    "plt.show"
   ]
  },
  {
   "cell_type": "code",
   "execution_count": 75,
   "id": "4cc833de-4f88-4115-89a3-d3fda964fe26",
   "metadata": {},
   "outputs": [
    {
     "data": {
      "text/plain": [
       "-0.23505287035553274"
      ]
     },
     "execution_count": 75,
     "metadata": {},
     "output_type": "execute_result"
    }
   ],
   "source": [
    "# CORRELATION COEFFICIENT\n",
    "correlation = data['bill_length_mm'].corr(data['bill_depth_mm'])\n",
    "correlation"
   ]
  },
  {
   "cell_type": "code",
   "execution_count": 83,
   "id": "1c666ebd-fa90-49df-8a7b-0938021b4a39",
   "metadata": {},
   "outputs": [
    {
     "data": {
      "text/plain": [
       "0      39.1\n",
       "1      39.5\n",
       "2      40.3\n",
       "3       NaN\n",
       "4      36.7\n",
       "       ... \n",
       "339    55.8\n",
       "340    43.5\n",
       "341    49.6\n",
       "342    50.8\n",
       "343    50.2\n",
       "Name: bill_length_mm, Length: 344, dtype: float64"
      ]
     },
     "execution_count": 83,
     "metadata": {},
     "output_type": "execute_result"
    }
   ],
   "source": [
    "# PREDICTING BODY MASS FROM BILL MEASUREMENTS AND DROP NAN AS IT DOES NOT ACCEPT MISSING VALUES\n",
    "bill_length_mm = data['bill_length_mm']\n",
    "bill_length_mm"
   ]
  },
  {
   "cell_type": "code",
   "execution_count": 87,
   "id": "482d2643-0e31-4af5-9111-e085dd60dbfd",
   "metadata": {},
   "outputs": [
    {
     "data": {
      "text/plain": [
       "0      39.10000\n",
       "1      39.50000\n",
       "2      40.30000\n",
       "3      43.92193\n",
       "4      36.70000\n",
       "         ...   \n",
       "339    55.80000\n",
       "340    43.50000\n",
       "341    49.60000\n",
       "342    50.80000\n",
       "343    50.20000\n",
       "Name: bill_length_mm, Length: 344, dtype: float64"
      ]
     },
     "execution_count": 87,
     "metadata": {},
     "output_type": "execute_result"
    }
   ],
   "source": [
    "bill_length_mm.dropna()\n",
    "bill_length_mm.fillna(data.bill_length_mm.mean())"
   ]
  },
  {
   "cell_type": "code",
   "execution_count": 94,
   "id": "a7922fe1-097c-4a08-8448-7d45b1714764",
   "metadata": {},
   "outputs": [
    {
     "data": {
      "text/plain": [
       "0      3750.000000\n",
       "1      3800.000000\n",
       "2      3250.000000\n",
       "3      4201.754386\n",
       "4      3450.000000\n",
       "          ...     \n",
       "339    4000.000000\n",
       "340    3400.000000\n",
       "341    3775.000000\n",
       "342    4100.000000\n",
       "343    3775.000000\n",
       "Name: body_mass_g, Length: 344, dtype: float64"
      ]
     },
     "execution_count": 94,
     "metadata": {},
     "output_type": "execute_result"
    }
   ],
   "source": [
    "body_mass_g = data['body_mass_g']\n",
    "body_mass_g\n",
    "body_mass_g.dropna()\n",
    "body_mass_g.fillna(body_mass_g.mean())"
   ]
  },
  {
   "cell_type": "code",
   "execution_count": 96,
   "id": "f4b30b78-5112-4120-9e5d-481c7b40ab95",
   "metadata": {},
   "outputs": [
    {
     "name": "stdout",
     "output_type": "stream",
     "text": [
      "[87.41527705] 362.30672165392343\n"
     ]
    }
   ],
   "source": [
    "# Drop rows where 'bill_length_mm' or 'body_mass_g' is NaN\n",
    "data_clean = data.dropna(subset=['bill_length_mm', 'body_mass_g'])\n",
    "\n",
    "# Separate the features and target variable\n",
    "x = data_clean[['bill_length_mm']]\n",
    "y = data_clean['body_mass_g']\n",
    "\n",
    "# Fit the model\n",
    "model = LinearRegression().fit(x, y)\n",
    "print(model.coef_, model.intercept_)\n"
   ]
  },
  {
   "cell_type": "code",
   "execution_count": 97,
   "id": "8ff084d5-ac89-4b19-ac92-ebb6948f4ef4",
   "metadata": {},
   "outputs": [
    {
     "name": "stdout",
     "output_type": "stream",
     "text": [
      "[87.41527705] 362.3067216539207\n"
     ]
    }
   ],
   "source": [
    "from sklearn.impute import SimpleImputer\n",
    "\n",
    "# Impute missing values in 'bill_length_mm' with the mean of the column\n",
    "imputer = SimpleImputer(strategy='mean')\n",
    "x = imputer.fit_transform(data[['bill_length_mm']])\n",
    "\n",
    "# Handle 'body_mass_g' similarly if needed\n",
    "y = data['body_mass_g'].fillna(data['body_mass_g'].mean())\n",
    "\n",
    "# Fit the model\n",
    "model = LinearRegression().fit(x, y)\n",
    "print(model.coef_, model.intercept_)\n"
   ]
  },
  {
   "cell_type": "code",
   "execution_count": null,
   "id": "0700b589-0b99-45a2-9cb0-57c3154d325e",
   "metadata": {},
   "outputs": [],
   "source": [
    "# Coefficient (coef_): 87.41527705\n",
    "# This means that for every unit increase in bill_length_mm, the body_mass_g is expected to increase by approximately 87.42 grams.\n",
    "# Intercept (intercept_): 362.30672165392343. This is the predicted body_mass_g when bill_length_mm is zero.\n",
    "# It's the point where the regression line crosses the y-axis.\n",
    "# So, our linear regression equation would be:\n",
    "# body_mass_g = 87.42 x bill_length_mm + 362.31\n",
    "# we can now use this model to make predictions about body mass based on bill length measurements!"
   ]
  }
 ],
 "metadata": {
  "kernelspec": {
   "display_name": "Python 3 (ipykernel)",
   "language": "python",
   "name": "python3"
  },
  "language_info": {
   "codemirror_mode": {
    "name": "ipython",
    "version": 3
   },
   "file_extension": ".py",
   "mimetype": "text/x-python",
   "name": "python",
   "nbconvert_exporter": "python",
   "pygments_lexer": "ipython3",
   "version": "3.11.7"
  }
 },
 "nbformat": 4,
 "nbformat_minor": 5
}
